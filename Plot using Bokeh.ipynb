{
 "cells": [
  {
   "cell_type": "code",
   "execution_count": 1,
   "metadata": {},
   "outputs": [],
   "source": [
    "import pandas as pd\n",
    "import numpy as np\n",
    "from bokeh.io import show, output_file\n",
    "from bokeh.models import ColumnDataSource\n",
    "from bokeh.plotting import figure\n",
    "from bokeh.sampledata.commits import data\n",
    "from bokeh.transform import jitter\n",
    "from bokeh.models import ColumnDataSource, ColorBar\n",
    "from bokeh.palettes import Spectral6\n",
    "from bokeh.layouts import layout\n",
    "from bokeh.models import Toggle, BoxAnnotation"
   ]
  },
  {
   "cell_type": "code",
   "execution_count": 2,
   "metadata": {},
   "outputs": [
    {
     "name": "stdout",
     "output_type": "stream",
     "text": [
      "Load big file (1) or small file (2)? 1\n"
     ]
    }
   ],
   "source": [
    "Filetype=input('Load big file (1) or small file (2)? ')\n",
    "if Filetype=='2' :\n",
    "    data=pd.read_csv('data/Sdata.csv',header=0)\n",
    "else:\n",
    "    data=pd.read_csv('data/Bdata.csv',header=0)\n",
    "data=data.drop(['Unnamed: 0',],axis=1) "
   ]
  },
  {
   "cell_type": "code",
   "execution_count": 3,
   "metadata": {},
   "outputs": [],
   "source": [
    "catupper=np.array\n",
    "CATEGORIES = data['category.slug'].unique()\n",
    "CATEGORIES = [element.upper() for element in CATEGORIES] \n",
    "\n",
    "data['category.slug'] = [element.upper() for element in data['category.slug']] "
   ]
  },
  {
   "cell_type": "code",
   "execution_count": 4,
   "metadata": {},
   "outputs": [],
   "source": [
    "CATEGORIES=['PHOTOGRAPHY','TECHNOLOGY','FOOD','MUSIC'] #delete this line to get all categories"
   ]
  },
  {
   "cell_type": "code",
   "execution_count": 5,
   "metadata": {},
   "outputs": [],
   "source": [
    "output_file(\"categorical_scatter_jitter.html\")\n",
    "\n",
    "\n",
    "source = ColumnDataSource(data)\n",
    "\n",
    "p = figure(plot_width=1800, plot_height=800, y_range=CATEGORIES,x_range=(0,300))\n",
    "p.title.text_color = \"black\"\n",
    "p.title.text_font_size='25pt'\n",
    "p.title.text_font = \"times\"\n",
    "p.title.text_font_style = \"italic\"\n",
    "p.cross(x='pledge_perc', y='category.slug', source=source, size=80,alpha=0.05,fill_color=\"green\",line_color=\"green\",line_width=2)\n",
    "major_label_text_font_size=16\n",
    "p.xaxis.axis_label = 'Pledge % '\n",
    "p.xaxis.axis_label_text_font_size = \"20pt\"\n",
    "\n",
    "p.xaxis.major_label_text_font_size='16pt'\n",
    "p.yaxis.major_label_text_font_size='20pt'\n",
    "\n",
    "box = BoxAnnotation(left=0, right=100, fill_color='gray', fill_alpha=0.1)\n",
    "p.add_layout(box)\n",
    "\n",
    "p.ygrid.grid_line_color = None\n",
    "\n",
    "show(p)"
   ]
  },
  {
   "cell_type": "code",
   "execution_count": null,
   "metadata": {},
   "outputs": [],
   "source": []
  },
  {
   "cell_type": "code",
   "execution_count": null,
   "metadata": {},
   "outputs": [],
   "source": []
  }
 ],
 "metadata": {
  "kernelspec": {
   "display_name": "Python 3",
   "language": "python",
   "name": "python3"
  },
  "language_info": {
   "codemirror_mode": {
    "name": "ipython",
    "version": 3
   },
   "file_extension": ".py",
   "mimetype": "text/x-python",
   "name": "python",
   "nbconvert_exporter": "python",
   "pygments_lexer": "ipython3",
   "version": "3.6.5"
  }
 },
 "nbformat": 4,
 "nbformat_minor": 2
}
